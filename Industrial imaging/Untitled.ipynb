{
 "cells": [
  {
   "cell_type": "code",
   "execution_count": null,
   "id": "ec40bbb1-c329-4abd-8862-e7a24bca5058",
   "metadata": {},
   "outputs": [],
   "source": [
    "!pip install ultralytics"
   ]
  },
  {
   "cell_type": "code",
   "execution_count": null,
   "id": "1c7960ce-4a71-494b-aabc-a77b32d3049a",
   "metadata": {},
   "outputs": [],
   "source": [
    "from ultralytics import YOLO\n",
    "\n",
    "# Créez un nouveau modèle YOLO à partir de zéro\n",
    "model = YOLO('yolov8.yaml')\n",
    "\n",
    "# Chargez un modèle YOLO pré-entraîné (recommandé pour l'entraînement)\n",
    "model = YOLO('yolov8.pt')\n",
    "\n",
    "# Entraînez le modèle en utilisant le jeu de données 'coco128.yaml' pendant 3 époques\n",
    "results = model.train(data='coco128.yaml', epochs=3)\n",
    "\n",
    "# Évaluez les performances du modèle sur l'ensemble de validation\n",
    "results = model.val()\n"
   ]
  },
  {
   "cell_type": "code",
   "execution_count": null,
   "id": "1cd754f0-c863-4eb5-8004-ce6fa77b5015",
   "metadata": {},
   "outputs": [],
   "source": [
    "# Effectuez la détection d'objets sur une image à l'aide du modèle\n",
    "results = model('https://ultralytics.com/images/bus.jpg')"
   ]
  },
  {
   "cell_type": "code",
   "execution_count": null,
   "id": "2a1b2f31-e3ce-47f0-ac3a-244ff42632cf",
   "metadata": {},
   "outputs": [],
   "source": [
    "# Process results list\n",
    "for result in results:\n",
    "    boxes = result.boxes  # Boxes object for bounding box outputs\n",
    "    masks = result.masks  # Masks object for segmentation masks outputs\n",
    "    keypoints = result.keypoints  # Keypoints object for pose outputs\n",
    "    probs = result.probs  # Probs object for classification outputs\n",
    "    result.show()  # display to screen\n",
    "    result.save(filename='result.jpg')  # save to disk"
   ]
  },
  {
   "cell_type": "code",
   "execution_count": null,
   "id": "661d6ba4-9147-4bfa-93c5-0cc94d9aa03d",
   "metadata": {},
   "outputs": [],
   "source": [
    "model.predict('https://ultralytics.com/images/bus.jpg', save=True, conf=0.1)"
   ]
  },
  {
   "cell_type": "code",
   "execution_count": null,
   "id": "2734b58b-102d-4328-8491-cb517c962ef5",
   "metadata": {},
   "outputs": [],
   "source": []
  }
 ],
 "metadata": {
  "kernelspec": {
   "display_name": "Python 3 (ipykernel)",
   "language": "python",
   "name": "python3"
  },
  "language_info": {
   "codemirror_mode": {
    "name": "ipython",
    "version": 3
   },
   "file_extension": ".py",
   "mimetype": "text/x-python",
   "name": "python",
   "nbconvert_exporter": "python",
   "pygments_lexer": "ipython3",
   "version": "3.10.12"
  }
 },
 "nbformat": 4,
 "nbformat_minor": 5
}
